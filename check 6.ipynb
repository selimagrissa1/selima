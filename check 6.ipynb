{
 "cells": [
  {
   "cell_type": "markdown",
   "id": "0177d270",
   "metadata": {},
   "source": [
    "# Q1"
   ]
  },
  {
   "cell_type": "code",
   "execution_count": 23,
   "id": "8a784017",
   "metadata": {},
   "outputs": [
    {
     "name": "stdout",
     "output_type": "stream",
     "text": [
      "array : [[0 1 2]\n",
      " [3 4 5]\n",
      " [6 7 8]] .\n",
      "list : [[0, 1, 2], [3, 4, 5], [6, 7, 8]]\n"
     ]
    }
   ],
   "source": [
    "import numpy as np \n",
    "\n",
    "a=np.array([[0,1,2],[3,4,5],[6,7,8]])\n",
    "print (\"array :\",a ,\".\")\n",
    "b= a.tolist()\n",
    "print(\"list :\",b)"
   ]
  },
  {
   "cell_type": "markdown",
   "id": "aeaa465f",
   "metadata": {},
   "source": [
    "# Q2"
   ]
  },
  {
   "cell_type": "markdown",
   "id": "e778d2de",
   "metadata": {},
   "source": [
    "M1"
   ]
  },
  {
   "cell_type": "code",
   "execution_count": null,
   "id": "6db59746",
   "metadata": {},
   "outputs": [],
   "source": [
    "import numpy as np \n",
    "\n",
    "a=np.array([[0,1,2],[3,4,5],[6,7,8]])\n",
    "print (a)\n",
    "print (a[0,0]+a[1,1]+a[2,2])"
   ]
  },
  {
   "cell_type": "markdown",
   "id": "674be603",
   "metadata": {},
   "source": [
    "M2"
   ]
  },
  {
   "cell_type": "code",
   "execution_count": null,
   "id": "e5070a8a",
   "metadata": {},
   "outputs": [],
   "source": [
    "import numpy as np \n",
    "\n",
    "a=np.array([[0,1,2],[3,4,5],[6,7,8]])\n",
    "print (a)\n",
    "b=a.trace()\n",
    "print (b)"
   ]
  },
  {
   "cell_type": "markdown",
   "id": "fb2121b7",
   "metadata": {},
   "source": [
    "# Q3"
   ]
  },
  {
   "cell_type": "code",
   "execution_count": null,
   "id": "cbb98d73",
   "metadata": {},
   "outputs": [],
   "source": [
    "import numpy as np \n",
    "\n",
    "a=np.array([[3,1,2],[4,4,5],[6,7,8]])\n",
    "print (a)\n",
    "x=int(input(\"donner un nbre\"))\n",
    "for i in[[3,1,2],[4,4,5],[6,7,8]]:\n",
    "    for j in i :\n",
    "        if j>=x : \n",
    "            print (j)"
   ]
  },
  {
   "cell_type": "markdown",
   "id": "948e8000",
   "metadata": {},
   "source": [
    "# Q4"
   ]
  },
  {
   "cell_type": "code",
   "execution_count": null,
   "id": "7f968f1a",
   "metadata": {},
   "outputs": [],
   "source": [
    "import numpy as np \n",
    "a =np.array ([[1,2],[3,5],[7,5]])\n",
    "b =np.array ([[9,8],[7,5],[3,5]])\n",
    "c =np.array(a+b)\n",
    "print (c)"
   ]
  },
  {
   "cell_type": "markdown",
   "id": "0b803b69",
   "metadata": {},
   "source": [
    "# Q5"
   ]
  },
  {
   "cell_type": "markdown",
   "id": "8eb01884",
   "metadata": {},
   "source": [
    "M1"
   ]
  },
  {
   "cell_type": "code",
   "execution_count": null,
   "id": "1274e459",
   "metadata": {},
   "outputs": [],
   "source": [
    "import numpy as np \n",
    "\n",
    "a = np.random.random((2, 2))\n",
    "print(\"1:\\n\",a)\n",
    "x=0\n",
    "for i in a :\n",
    "    for j in i :\n",
    "        x=x+j\n",
    "        y=x/2\n",
    "        z=j-y\n",
    "        print (\"\\n z :\",z)\n",
    "print (\"\\n y:\",y)"
   ]
  },
  {
   "cell_type": "markdown",
   "id": "958cfb41",
   "metadata": {},
   "source": [
    "M2"
   ]
  },
  {
   "cell_type": "code",
   "execution_count": null,
   "id": "4a626119",
   "metadata": {},
   "outputs": [],
   "source": [
    "import random\n",
    "import numpy as np\n",
    "print(\"Original matrix:\\n\")\n",
    "a = np.random.rand(2, 3)\n",
    "print(a)\n",
    "print(\"\\nSubtract the mean of each row of the said matrix:\\n\")\n",
    "b = a - a.mean(axis=1, keepdims=True)\n",
    "print(b)"
   ]
  }
 ],
 "metadata": {
  "kernelspec": {
   "display_name": "Python 3",
   "language": "python",
   "name": "python3"
  },
  "language_info": {
   "codemirror_mode": {
    "name": "ipython",
    "version": 3
   },
   "file_extension": ".py",
   "mimetype": "text/x-python",
   "name": "python",
   "nbconvert_exporter": "python",
   "pygments_lexer": "ipython3",
   "version": "3.8.8"
  }
 },
 "nbformat": 4,
 "nbformat_minor": 5
}
